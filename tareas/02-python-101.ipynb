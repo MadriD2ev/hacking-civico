{
  "nbformat": 4,
  "nbformat_minor": 0,
  "metadata": {
    "colab": {
      "name": "02-python-101.ipynb",
      "provenance": [],
      "authorship_tag": "ABX9TyMKgPHp9kuLorFnCnI1Igvd",
      "include_colab_link": true
    },
    "kernelspec": {
      "name": "python3",
      "display_name": "Python 3"
    }
  },
  "cells": [
    {
      "cell_type": "markdown",
      "metadata": {
        "id": "view-in-github",
        "colab_type": "text"
      },
      "source": [
        "<a href=\"https://colab.research.google.com/github/MadriD2ev/hacking-civico/blob/master/tareas/02-python-101.ipynb\" target=\"_parent\"><img src=\"https://colab.research.google.com/assets/colab-badge.svg\" alt=\"Open In Colab\"/></a>"
      ]
    },
    {
      "cell_type": "code",
      "metadata": {
        "id": "osQRRWXO6o3u",
        "colab_type": "code",
        "colab": {}
      },
      "source": [
        ""
      ],
      "execution_count": null,
      "outputs": []
    },
    {
      "cell_type": "markdown",
      "metadata": {
        "id": "EQfGD5yT8PZS",
        "colab_type": "text"
      },
      "source": [
        "##**👩🏻‍💻 Tarea 2 📘**<h2>##  \n",
        "\n",
        "###**☝ Primero:**<h3>### \n",
        "\n",
        "####✅ Investiga el número de habitantes que hay en tu ciudad, estado y país, así como la superficie (en km²) de los mismos.<h4>####\n",
        "\n",
        "\n",
        "Superficie    | Habitantes  | Localización\n",
        "----------    | ----------  | -------------\n",
        "124.4 km²     | 489 619     | Xalapa\n",
        "71,820 km²    | 8,113,000   | Veracruz\n",
        "5,114,295 km² | 103,263,388 | México\n",
        "\n",
        "\n",
        "\n",
        "\n",
        "\n",
        "\n"
      ]
    },
    {
      "cell_type": "code",
      "metadata": {
        "id": "BBkfiXH4L0Oc",
        "colab_type": "code",
        "colab": {
          "base_uri": "https://localhost:8080/",
          "height": 34
        },
        "outputId": "521fec20-1c9a-43df-a341-c74cb6c00859"
      },
      "source": [
        "#Función densidad_poblacional que tome dos argumentos, poblacion y area_ciudad\n",
        "import math as m\n",
        "\n",
        "def densidad_poblacional (poblacion,area_ciudad):\n",
        "  dp = poblacion / area_ciudad\n",
        "  return dp \n",
        "\n",
        "#Xalapa = 3936 hab/km² \n",
        "#verDenPob = densidad_poblacional (489619,124.4)\n",
        "\n",
        "#Veracruz = 113 hab/km² \n",
        "#verDenPob = densidad_poblacional (8113000,71820)\n",
        "\n",
        "#México = 21 hab/km² \n",
        "verDenPob = densidad_poblacional (103263388,5114295)\n",
        "\n",
        "print (m.ceil(verDenPob))"
      ],
      "execution_count": 5,
      "outputs": [
        {
          "output_type": "stream",
          "text": [
            "21\n"
          ],
          "name": "stdout"
        }
      ]
    },
    {
      "cell_type": "markdown",
      "metadata": {
        "id": "2k6jtZ3vTTTv",
        "colab_type": "text"
      },
      "source": [
        "#### **Responde lo siguiente** 🧐 <h4>#### \n",
        "\n",
        "*¿Cuál es la densidad poblacional?*\n",
        "   \n",
        "*   De Xalapa 3936 hab/km²\n",
        "*   De Veracruz 113 hab/km²\n",
        "*   De México 21 hab/km²\n",
        "\n",
        "*¿Qué pasa al comparar varios estados o ciudades?*\n",
        "\n",
        "  Al parecer si hay menos superficie territorial mayor es su población.\n",
        "\n"
      ]
    },
    {
      "cell_type": "markdown",
      "metadata": {
        "id": "mBGVZ7Z3UY5j",
        "colab_type": "text"
      },
      "source": [
        "###**☝ Segundo:**<h3>###\n",
        "\n",
        "✅ Para esto deberás investigar el dato del gasto público del último año y uno anterior del sector de tu interés (puede ser a nivel local, estatal o federal en cualquier tema).\n",
        "\n",
        "Ejemplo Xalapa:\n",
        "\n",
        "*   Gasto público 2020 --> 1 615 488 369\n",
        "*   Gasto público 2019 --> 1 924 051 997.03 \n",
        "\n",
        "\n"
      ]
    },
    {
      "cell_type": "code",
      "metadata": {
        "id": "MfGnPn1Fmh7E",
        "colab_type": "code",
        "colab": {
          "base_uri": "https://localhost:8080/",
          "height": 34
        },
        "outputId": "e0a4c043-d49b-4fff-86f0-64d07717825e"
      },
      "source": [
        "#Crea una programa en Python que te ayude a calcular el gasto per cápita de Xalapa\n",
        "\n",
        "import math\n",
        "\n",
        "def gastoCapita (consumoAnual, cantidadConsumidores):\n",
        "  cpc = consumoAnual / cantidadConsumidores\n",
        "  print (math.ceil(cpc))\n",
        "\n",
        "#Gasto per cápita 2020 --> 3300\n",
        "#gastoCapita ( 1615488369, 489619)\n",
        "\n",
        "#Gasto per cápita 2019 --> 4202\n",
        "gastoCapita ( 1924051997.03, 457928)"
      ],
      "execution_count": 10,
      "outputs": [
        {
          "output_type": "stream",
          "text": [
            "4202\n"
          ],
          "name": "stdout"
        }
      ]
    },
    {
      "cell_type": "markdown",
      "metadata": {
        "id": "Fq6XEf6HpQZ9",
        "colab_type": "text"
      },
      "source": [
        "#### **Responde lo siguiente** 🧐 <h4>#### \n",
        "\n",
        "*¿En qué porcentaje aumentó o disminuyó?*\n",
        "   \n",
        "*   Disminuyó en 16.04%\n",
        "\n",
        "*¿A qué crees que se deba?*\n",
        "\n",
        "Al cambio de gobierno y a que la Secretaría de Finanzas y Planeación aplicó un recorte a los poderes legislativo y judicial, así como a los órganos autónomos del Estado."
      ]
    },
    {
      "cell_type": "markdown",
      "metadata": {
        "id": "Knkqx_QxtqwA",
        "colab_type": "text"
      },
      "source": [
        "###**☝ Tercero:**<h3>###\n",
        "\n",
        "#### **Responde lo siguiente** 🧐 <h4>#### \n",
        "\n",
        "*¿Para qué crees que nos pueda ser útil esta información?*\n",
        "   \n",
        "Para que el gobierno estatal tenga un estimado de la cantidad de recursos que debe aportar al municipio.\n",
        "\n",
        "*¿Qué decisiones podría tomar el gobierno basado en ésta?*\n",
        "\n",
        "De este modo garantiza que se cubran las necesidades de algunas áreas como desigualdad, cuidado del medio ambiente, seguridad ciudadana y promover el desarrollo económico, entre otros.\n"
      ]
    },
    {
      "cell_type": "code",
      "metadata": {
        "id": "d46EEuL2md7T",
        "colab_type": "code",
        "colab": {}
      },
      "source": [
        ""
      ],
      "execution_count": null,
      "outputs": []
    }
  ]
}